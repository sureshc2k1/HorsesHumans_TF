{
 "cells": [
  {
   "cell_type": "markdown",
   "metadata": {
    "id": "oW1ywX9BK4kY"
   },
   "source": [
    "## Import Libraries"
   ]
  },
  {
   "cell_type": "code",
   "execution_count": 7,
   "metadata": {
    "executionInfo": {
     "elapsed": 333,
     "status": "ok",
     "timestamp": 1636282236789,
     "user": {
      "displayName": "suresh challiyil",
      "photoUrl": "https://lh3.googleusercontent.com/a/default-user=s64",
      "userId": "05278072941973937916"
     },
     "user_tz": -330
    },
    "id": "e837c067K7V3"
   },
   "outputs": [],
   "source": [
    "import matplotlib.pyplot as plt\n",
    "import numpy as np\n",
    "import tensorflow as tf\n",
    "from tensorflow import keras\n",
    "import tensorflow_datasets as tfds"
   ]
  },
  {
   "cell_type": "markdown",
   "metadata": {
    "id": "If6bIbOeLPAW"
   },
   "source": [
    "## Check datasets"
   ]
  },
  {
   "cell_type": "code",
   "execution_count": 8,
   "metadata": {
    "colab": {
     "base_uri": "https://localhost:8080/"
    },
    "executionInfo": {
     "elapsed": 330,
     "status": "ok",
     "timestamp": 1636282239076,
     "user": {
      "displayName": "suresh challiyil",
      "photoUrl": "https://lh3.googleusercontent.com/a/default-user=s64",
      "userId": "05278072941973937916"
     },
     "user_tz": -330
    },
    "id": "ovF5nvbALRdv",
    "outputId": "1ecdfca0-2066-445b-8380-1933dd091ea0"
   },
   "outputs": [
    {
     "data": {
      "text/plain": [
       "['abstract_reasoning',\n",
       " 'accentdb',\n",
       " 'aeslc',\n",
       " 'aflw2k3d',\n",
       " 'ag_news_subset',\n",
       " 'ai2_arc',\n",
       " 'ai2_arc_with_ir',\n",
       " 'amazon_us_reviews',\n",
       " 'anli',\n",
       " 'arc',\n",
       " 'bair_robot_pushing_small',\n",
       " 'bccd',\n",
       " 'beans',\n",
       " 'big_patent',\n",
       " 'bigearthnet',\n",
       " 'billsum',\n",
       " 'binarized_mnist',\n",
       " 'binary_alpha_digits',\n",
       " 'blimp',\n",
       " 'bool_q',\n",
       " 'c4',\n",
       " 'caltech101',\n",
       " 'caltech_birds2010',\n",
       " 'caltech_birds2011',\n",
       " 'cars196',\n",
       " 'cassava',\n",
       " 'cats_vs_dogs',\n",
       " 'celeb_a',\n",
       " 'celeb_a_hq',\n",
       " 'cfq',\n",
       " 'chexpert',\n",
       " 'cifar10',\n",
       " 'cifar100',\n",
       " 'cifar10_1',\n",
       " 'cifar10_corrupted',\n",
       " 'citrus_leaves',\n",
       " 'cityscapes',\n",
       " 'civil_comments',\n",
       " 'clevr',\n",
       " 'clic',\n",
       " 'clinc_oos',\n",
       " 'cmaterdb',\n",
       " 'cnn_dailymail',\n",
       " 'coco',\n",
       " 'coco_captions',\n",
       " 'coil100',\n",
       " 'colorectal_histology',\n",
       " 'colorectal_histology_large',\n",
       " 'common_voice',\n",
       " 'coqa',\n",
       " 'cos_e',\n",
       " 'cosmos_qa',\n",
       " 'covid19sum',\n",
       " 'crema_d',\n",
       " 'curated_breast_imaging_ddsm',\n",
       " 'cycle_gan',\n",
       " 'deep_weeds',\n",
       " 'definite_pronoun_resolution',\n",
       " 'dementiabank',\n",
       " 'diabetic_retinopathy_detection',\n",
       " 'div2k',\n",
       " 'dmlab',\n",
       " 'downsampled_imagenet',\n",
       " 'dsprites',\n",
       " 'dtd',\n",
       " 'duke_ultrasound',\n",
       " 'emnist',\n",
       " 'eraser_multi_rc',\n",
       " 'esnli',\n",
       " 'eurosat',\n",
       " 'fashion_mnist',\n",
       " 'flic',\n",
       " 'flores',\n",
       " 'food101',\n",
       " 'forest_fires',\n",
       " 'fuss',\n",
       " 'gap',\n",
       " 'geirhos_conflict_stimuli',\n",
       " 'genomics_ood',\n",
       " 'german_credit_numeric',\n",
       " 'gigaword',\n",
       " 'glue',\n",
       " 'goemotions',\n",
       " 'gpt3',\n",
       " 'groove',\n",
       " 'gtzan',\n",
       " 'gtzan_music_speech',\n",
       " 'hellaswag',\n",
       " 'higgs',\n",
       " 'horses_or_humans',\n",
       " 'i_naturalist2017',\n",
       " 'imagenet2012',\n",
       " 'imagenet2012_corrupted',\n",
       " 'imagenet2012_real',\n",
       " 'imagenet2012_subset',\n",
       " 'imagenet_a',\n",
       " 'imagenet_r',\n",
       " 'imagenet_resized',\n",
       " 'imagenet_v2',\n",
       " 'imagenette',\n",
       " 'imagewang',\n",
       " 'imdb_reviews',\n",
       " 'irc_disentanglement',\n",
       " 'iris',\n",
       " 'kitti',\n",
       " 'kmnist',\n",
       " 'lfw',\n",
       " 'librispeech',\n",
       " 'librispeech_lm',\n",
       " 'libritts',\n",
       " 'ljspeech',\n",
       " 'lm1b',\n",
       " 'lost_and_found',\n",
       " 'lsun',\n",
       " 'malaria',\n",
       " 'math_dataset',\n",
       " 'mctaco',\n",
       " 'mnist',\n",
       " 'mnist_corrupted',\n",
       " 'movie_lens',\n",
       " 'movie_rationales',\n",
       " 'movielens',\n",
       " 'moving_mnist',\n",
       " 'multi_news',\n",
       " 'multi_nli',\n",
       " 'multi_nli_mismatch',\n",
       " 'natural_questions',\n",
       " 'natural_questions_open',\n",
       " 'newsroom',\n",
       " 'nsynth',\n",
       " 'nyu_depth_v2',\n",
       " 'omniglot',\n",
       " 'open_images_challenge2019_detection',\n",
       " 'open_images_v4',\n",
       " 'openbookqa',\n",
       " 'opinion_abstracts',\n",
       " 'opinosis',\n",
       " 'opus',\n",
       " 'oxford_flowers102',\n",
       " 'oxford_iiit_pet',\n",
       " 'para_crawl',\n",
       " 'patch_camelyon',\n",
       " 'paws_wiki',\n",
       " 'paws_x_wiki',\n",
       " 'pet_finder',\n",
       " 'pg19',\n",
       " 'places365_small',\n",
       " 'plant_leaves',\n",
       " 'plant_village',\n",
       " 'plantae_k',\n",
       " 'qa4mre',\n",
       " 'qasc',\n",
       " 'quickdraw_bitmap',\n",
       " 'radon',\n",
       " 'reddit',\n",
       " 'reddit_disentanglement',\n",
       " 'reddit_tifu',\n",
       " 'resisc45',\n",
       " 'robonet',\n",
       " 'rock_paper_scissors',\n",
       " 'rock_you',\n",
       " 'salient_span_wikipedia',\n",
       " 'samsum',\n",
       " 'savee',\n",
       " 'scan',\n",
       " 'scene_parse150',\n",
       " 'scicite',\n",
       " 'scientific_papers',\n",
       " 'sentiment140',\n",
       " 'shapes3d',\n",
       " 'smallnorb',\n",
       " 'snli',\n",
       " 'so2sat',\n",
       " 'speech_commands',\n",
       " 'spoken_digit',\n",
       " 'squad',\n",
       " 'stanford_dogs',\n",
       " 'stanford_online_products',\n",
       " 'starcraft_video',\n",
       " 'stl10',\n",
       " 'sun397',\n",
       " 'super_glue',\n",
       " 'svhn_cropped',\n",
       " 'ted_hrlr_translate',\n",
       " 'ted_multi_translate',\n",
       " 'tedlium',\n",
       " 'tf_flowers',\n",
       " 'the300w_lp',\n",
       " 'tiny_shakespeare',\n",
       " 'titanic',\n",
       " 'trec',\n",
       " 'trivia_qa',\n",
       " 'tydi_qa',\n",
       " 'uc_merced',\n",
       " 'ucf101',\n",
       " 'vctk',\n",
       " 'vgg_face2',\n",
       " 'visual_domain_decathlon',\n",
       " 'voc',\n",
       " 'voxceleb',\n",
       " 'voxforge',\n",
       " 'waymo_open_dataset',\n",
       " 'web_questions',\n",
       " 'wider_face',\n",
       " 'wiki40b',\n",
       " 'wikihow',\n",
       " 'wikipedia',\n",
       " 'wikipedia_toxicity_subtypes',\n",
       " 'wine_quality',\n",
       " 'winogrande',\n",
       " 'wmt14_translate',\n",
       " 'wmt15_translate',\n",
       " 'wmt16_translate',\n",
       " 'wmt17_translate',\n",
       " 'wmt18_translate',\n",
       " 'wmt19_translate',\n",
       " 'wmt_t2t_translate',\n",
       " 'wmt_translate',\n",
       " 'wordnet',\n",
       " 'xnli',\n",
       " 'xquad',\n",
       " 'xsum',\n",
       " 'yelp_polarity_reviews',\n",
       " 'yes_no']"
      ]
     },
     "execution_count": 8,
     "metadata": {},
     "output_type": "execute_result"
    }
   ],
   "source": [
    "tfds.list_builders()"
   ]
  },
  {
   "cell_type": "code",
   "execution_count": 9,
   "metadata": {
    "colab": {
     "base_uri": "https://localhost:8080/"
    },
    "executionInfo": {
     "elapsed": 322,
     "status": "ok",
     "timestamp": 1636282242990,
     "user": {
      "displayName": "suresh challiyil",
      "photoUrl": "https://lh3.googleusercontent.com/a/default-user=s64",
      "userId": "05278072941973937916"
     },
     "user_tz": -330
    },
    "id": "JodxJf5XLpk2",
    "outputId": "384ed42a-9c37-4bff-968f-a19432ce6cb9"
   },
   "outputs": [
    {
     "data": {
      "text/plain": [
       "tfds.core.DatasetInfo(\n",
       "    name='horses_or_humans',\n",
       "    version=3.0.0,\n",
       "    description='A large set of images of horses and humans.',\n",
       "    homepage='http://laurencemoroney.com/horses-or-humans-dataset',\n",
       "    features=FeaturesDict({\n",
       "        'image': Image(shape=(300, 300, 3), dtype=tf.uint8),\n",
       "        'label': ClassLabel(shape=(), dtype=tf.int64, num_classes=2),\n",
       "    }),\n",
       "    total_num_examples=1283,\n",
       "    splits={\n",
       "        'test': 256,\n",
       "        'train': 1027,\n",
       "    },\n",
       "    supervised_keys=('image', 'label'),\n",
       "    citation=\"\"\"@ONLINE {horses_or_humans,\n",
       "    author = \"Laurence Moroney\",\n",
       "    title = \"Horses or Humans Dataset\",\n",
       "    month = \"feb\",\n",
       "    year = \"2019\",\n",
       "    url = \"http://laurencemoroney.com/horses-or-humans-dataset\"\n",
       "    }\"\"\",\n",
       "    redistribution_info=,\n",
       ")"
      ]
     },
     "execution_count": 9,
     "metadata": {},
     "output_type": "execute_result"
    }
   ],
   "source": [
    "builder = tfds.builder(name=\"horses_or_humans\")\n",
    "builder.info"
   ]
  },
  {
   "cell_type": "markdown",
   "metadata": {
    "id": "UtvCVQMEL_g-"
   },
   "source": [
    "## Read dataset"
   ]
  },
  {
   "cell_type": "code",
   "execution_count": 10,
   "metadata": {
    "executionInfo": {
     "elapsed": 1,
     "status": "ok",
     "timestamp": 1636282247020,
     "user": {
      "displayName": "suresh challiyil",
      "photoUrl": "https://lh3.googleusercontent.com/a/default-user=s64",
      "userId": "05278072941973937916"
     },
     "user_tz": -330
    },
    "id": "-Ebx19xBMCzm"
   },
   "outputs": [],
   "source": [
    "train_data, train_info = tfds.load(name=\"horses_or_humans\", split=\"train\", with_info=True)\n",
    "test_data, test_info = tfds.load(name=\"horses_or_humans\", split='test', with_info=True)"
   ]
  },
  {
   "cell_type": "markdown",
   "metadata": {
    "id": "xLSNjYNhMcgf"
   },
   "source": [
    "## Transform the images"
   ]
  },
  {
   "cell_type": "code",
   "execution_count": 11,
   "metadata": {
    "executionInfo": {
     "elapsed": 9916,
     "status": "ok",
     "timestamp": 1636282260288,
     "user": {
      "displayName": "suresh challiyil",
      "photoUrl": "https://lh3.googleusercontent.com/a/default-user=s64",
      "userId": "05278072941973937916"
     },
     "user_tz": -330
    },
    "id": "GKWKRq-NMfq-"
   },
   "outputs": [],
   "source": [
    "import tensorflow as tf\n",
    "IMG_HEIGHT = 200\n",
    "IMG_WIDTH = 200\n",
    "train_images = np.array([elem['image'].numpy().astype(np.float32) for elem in train_data])\n",
    "train_labels = np.array([elem['label'] for elem in train_data])\n",
    "train_images = tf.image.resize(train_images, (IMG_HEIGHT, IMG_WIDTH))\n",
    "train_images = train_images/255.0\n"
   ]
  },
  {
   "cell_type": "code",
   "execution_count": 12,
   "metadata": {
    "colab": {
     "base_uri": "https://localhost:8080/"
    },
    "executionInfo": {
     "elapsed": 11,
     "status": "ok",
     "timestamp": 1636282261359,
     "user": {
      "displayName": "suresh challiyil",
      "photoUrl": "https://lh3.googleusercontent.com/a/default-user=s64",
      "userId": "05278072941973937916"
     },
     "user_tz": -330
    },
    "id": "s7zMtaTJ6-sR",
    "outputId": "29da9555-000a-4698-ff6a-bc8ffb1796e2"
   },
   "outputs": [
    {
     "data": {
      "text/plain": [
       "TensorShape([1027, 200, 200, 3])"
      ]
     },
     "execution_count": 12,
     "metadata": {},
     "output_type": "execute_result"
    }
   ],
   "source": [
    "train_images.shape"
   ]
  },
  {
   "cell_type": "code",
   "execution_count": 13,
   "metadata": {
    "executionInfo": {
     "elapsed": 1338,
     "status": "ok",
     "timestamp": 1636282262693,
     "user": {
      "displayName": "suresh challiyil",
      "photoUrl": "https://lh3.googleusercontent.com/a/default-user=s64",
      "userId": "05278072941973937916"
     },
     "user_tz": -330
    },
    "id": "MbmeI0gSWM2V"
   },
   "outputs": [],
   "source": [
    "test_images = np.array([elem['image'].numpy().astype(np.float32) for elem in test_data])\n",
    "test_labels = np.array([elem['label'] for elem in test_data])\n",
    "test_images = tf.image.resize(test_images, (IMG_HEIGHT, IMG_WIDTH))\n",
    "test_images = test_images/255.0"
   ]
  },
  {
   "cell_type": "markdown",
   "metadata": {
    "id": "rW1E8MphWP21"
   },
   "source": [
    "## Build model"
   ]
  },
  {
   "cell_type": "code",
   "execution_count": 20,
   "metadata": {
    "executionInfo": {
     "elapsed": 302,
     "status": "ok",
     "timestamp": 1636282725054,
     "user": {
      "displayName": "suresh challiyil",
      "photoUrl": "https://lh3.googleusercontent.com/a/default-user=s64",
      "userId": "05278072941973937916"
     },
     "user_tz": -330
    },
    "id": "MpMTLb74WRl9"
   },
   "outputs": [],
   "source": [
    "inputs = keras.Input(shape=(IMG_HEIGHT, IMG_WIDTH, 3))\n",
    "avgpool = keras.layers.AveragePooling2D(3, 3, input_shape=(IMG_HEIGHT, IMG_WIDTH, 3))\n",
    "conv1 = keras.layers.Conv2D(64, 3, activation='relu')\n",
    "conv2 = keras.layers.Conv2D(32, 5, activation='relu')\n",
    "conv3 = keras.layers.Conv2D(32, 7, activation='relu')\n",
    "maxpool = keras.layers.MaxPool2D(3, 2)\n",
    "dropout = keras.layers.Dropout(0.7)\n",
    "flatten = keras.layers.Flatten()\n",
    "dense1 = keras.layers.Dense(64, activation='relu')\n",
    "dense2 = keras.layers.Dense(32, activation='relu')\n",
    "output = keras.layers.Dense(2, activation='softmax')"
   ]
  },
  {
   "cell_type": "markdown",
   "metadata": {
    "id": "muIUV1gsXN2F"
   },
   "source": [
    "## Pass Data through the layers"
   ]
  },
  {
   "cell_type": "code",
   "execution_count": 21,
   "metadata": {
    "executionInfo": {
     "elapsed": 349,
     "status": "ok",
     "timestamp": 1636282727922,
     "user": {
      "displayName": "suresh challiyil",
      "photoUrl": "https://lh3.googleusercontent.com/a/default-user=s64",
      "userId": "05278072941973937916"
     },
     "user_tz": -330
    },
    "id": "Z8kqiYkJXQ7l"
   },
   "outputs": [],
   "source": [
    "x = avgpool(inputs)\n",
    "x = conv1(x)\n",
    "x = conv2(x)\n",
    "x = conv3(x)\n",
    "x = maxpool(x)\n",
    "x = dropout(x)\n",
    "x = flatten(x)\n",
    "x = dense1(x)\n",
    "x = dense2(x)\n",
    "out = output(x)"
   ]
  },
  {
   "cell_type": "markdown",
   "metadata": {
    "id": "HhQt6zMBWcU9"
   },
   "source": [
    "## Run the model"
   ]
  },
  {
   "cell_type": "code",
   "execution_count": 23,
   "metadata": {
    "colab": {
     "base_uri": "https://localhost:8080/"
    },
    "executionInfo": {
     "elapsed": 36565,
     "status": "ok",
     "timestamp": 1636282779980,
     "user": {
      "displayName": "suresh challiyil",
      "photoUrl": "https://lh3.googleusercontent.com/a/default-user=s64",
      "userId": "05278072941973937916"
     },
     "user_tz": -330
    },
    "id": "TDrnreb0WeRF",
    "outputId": "0ef31a82-b4e4-45f7-b449-1a8701f24421"
   },
   "outputs": [
    {
     "name": "stdout",
     "output_type": "stream",
     "text": [
      "Epoch 1/5\n",
      "33/33 [==============================] - 32s 40ms/step - loss: 0.4337 - accuracy: 0.7653\n",
      "Epoch 2/5\n",
      "33/33 [==============================] - 1s 36ms/step - loss: 0.2001 - accuracy: 0.9241\n",
      "Epoch 3/5\n",
      "33/33 [==============================] - 1s 35ms/step - loss: 0.0888 - accuracy: 0.9688\n",
      "Epoch 4/5\n",
      "33/33 [==============================] - 1s 35ms/step - loss: 0.0295 - accuracy: 0.9873\n",
      "Epoch 5/5\n",
      "33/33 [==============================] - 1s 35ms/step - loss: 0.0090 - accuracy: 0.9981\n"
     ]
    },
    {
     "data": {
      "text/plain": [
       "<keras.callbacks.History at 0x7f769eab3290>"
      ]
     },
     "execution_count": 23,
     "metadata": {},
     "output_type": "execute_result"
    }
   ],
   "source": [
    "model = keras.Model(inputs=inputs, outputs=out, name='horses_or_humans')\n",
    "model.compile(optimizer = keras.optimizers.Adam(learning_rate=0.001),\n",
    "              loss=keras.losses.SparseCategoricalCrossentropy(from_logits=False),\n",
    "              metrics=['accuracy'])\n",
    "model.fit(train_images, train_labels, epochs=5, batch_size=32)"
   ]
  },
  {
   "cell_type": "code",
   "execution_count": 10,
   "metadata": {
    "colab": {
     "base_uri": "https://localhost:8080/"
    },
    "executionInfo": {
     "elapsed": 446,
     "status": "ok",
     "timestamp": 1636271739808,
     "user": {
      "displayName": "suresh challiyil",
      "photoUrl": "https://lh3.googleusercontent.com/a/default-user=s64",
      "userId": "05278072941973937916"
     },
     "user_tz": -330
    },
    "id": "SW5wP9AuZQFF",
    "outputId": "3565bc3f-c8ff-467d-d544-f1050aeef5af"
   },
   "outputs": [
    {
     "name": "stdout",
     "output_type": "stream",
     "text": [
      "8/8 [==============================] - 0s 15ms/step - loss: 1.2220 - accuracy: 0.8242\n"
     ]
    },
    {
     "data": {
      "text/plain": [
       "[1.222005844116211, 0.82421875]"
      ]
     },
     "execution_count": 10,
     "metadata": {},
     "output_type": "execute_result"
    }
   ],
   "source": [
    "## Evaluate the model\n",
    "model.evaluate(test_images, test_labels)"
   ]
  },
  {
   "cell_type": "markdown",
   "metadata": {
    "id": "9yzJ6L4eZXKM"
   },
   "source": [
    "## Save an retrain the model"
   ]
  },
  {
   "cell_type": "code",
   "execution_count": 11,
   "metadata": {
    "executionInfo": {
     "elapsed": 406,
     "status": "ok",
     "timestamp": 1636271794547,
     "user": {
      "displayName": "suresh challiyil",
      "photoUrl": "https://lh3.googleusercontent.com/a/default-user=s64",
      "userId": "05278072941973937916"
     },
     "user_tz": -330
    },
    "id": "0-H9yaYGZaPD"
   },
   "outputs": [],
   "source": [
    "model.save(\"./horsesOrHumans.h5\")"
   ]
  },
  {
   "cell_type": "code",
   "execution_count": 12,
   "metadata": {
    "colab": {
     "base_uri": "https://localhost:8080/"
    },
    "executionInfo": {
     "elapsed": 513,
     "status": "ok",
     "timestamp": 1636271834424,
     "user": {
      "displayName": "suresh challiyil",
      "photoUrl": "https://lh3.googleusercontent.com/a/default-user=s64",
      "userId": "05278072941973937916"
     },
     "user_tz": -330
    },
    "id": "GjCxzKBPZj6c",
    "outputId": "c3d08c88-3050-4c2b-925c-a77d340e9636"
   },
   "outputs": [
    {
     "name": "stdout",
     "output_type": "stream",
     "text": [
      "Model: \"horses_or_humans\"\n",
      "_________________________________________________________________\n",
      "Layer (type)                 Output Shape              Param #   \n",
      "=================================================================\n",
      "input_1 (InputLayer)         [(None, 200, 200, 3)]     0         \n",
      "_________________________________________________________________\n",
      "average_pooling2d (AveragePo (None, 66, 66, 3)         0         \n",
      "_________________________________________________________________\n",
      "conv2d (Conv2D)              (None, 64, 64, 64)        1792      \n",
      "_________________________________________________________________\n",
      "conv2d_1 (Conv2D)            (None, 60, 60, 32)        51232     \n",
      "_________________________________________________________________\n",
      "conv2d_2 (Conv2D)            (None, 54, 54, 32)        50208     \n",
      "_________________________________________________________________\n",
      "max_pooling2d (MaxPooling2D) (None, 26, 26, 32)        0         \n",
      "_________________________________________________________________\n",
      "dropout (Dropout)            (None, 26, 26, 32)        0         \n",
      "_________________________________________________________________\n",
      "flatten (Flatten)            (None, 21632)             0         \n",
      "_________________________________________________________________\n",
      "dense (Dense)                (None, 64)                1384512   \n",
      "_________________________________________________________________\n",
      "dense_1 (Dense)              (None, 32)                2080      \n",
      "_________________________________________________________________\n",
      "dense_2 (Dense)              (None, 2)                 66        \n",
      "=================================================================\n",
      "Total params: 1,489,890\n",
      "Trainable params: 1,489,890\n",
      "Non-trainable params: 0\n",
      "_________________________________________________________________\n"
     ]
    }
   ],
   "source": [
    "saved_model = keras.models.load_model(\"./horsesOrHumans.h5\")\n",
    "saved_model.summary()"
   ]
  },
  {
   "cell_type": "code",
   "execution_count": 13,
   "metadata": {
    "colab": {
     "base_uri": "https://localhost:8080/"
    },
    "executionInfo": {
     "elapsed": 11212,
     "status": "ok",
     "timestamp": 1636271868526,
     "user": {
      "displayName": "suresh challiyil",
      "photoUrl": "https://lh3.googleusercontent.com/a/default-user=s64",
      "userId": "05278072941973937916"
     },
     "user_tz": -330
    },
    "id": "Ea-dXtLnZv9j",
    "outputId": "1228fcc1-c59e-4543-a8b4-ba9cb6809cb0"
   },
   "outputs": [
    {
     "name": "stdout",
     "output_type": "stream",
     "text": [
      "Epoch 1/5\n",
      "33/33 [==============================] - 2s 38ms/step - loss: 0.0513 - accuracy: 0.9805\n",
      "Epoch 2/5\n",
      "33/33 [==============================] - 1s 35ms/step - loss: 0.0994 - accuracy: 0.9620\n",
      "Epoch 3/5\n",
      "33/33 [==============================] - 1s 35ms/step - loss: 0.0560 - accuracy: 0.9805\n",
      "Epoch 4/5\n",
      "33/33 [==============================] - 1s 34ms/step - loss: 0.0402 - accuracy: 0.9873\n",
      "Epoch 5/5\n",
      "33/33 [==============================] - 1s 33ms/step - loss: 0.0129 - accuracy: 0.9951\n"
     ]
    },
    {
     "data": {
      "text/plain": [
       "<keras.callbacks.History at 0x7f6f72b7db50>"
      ]
     },
     "execution_count": 13,
     "metadata": {},
     "output_type": "execute_result"
    }
   ],
   "source": [
    "saved_model.fit(train_images, train_labels, epochs=5, batch_size=32)"
   ]
  },
  {
   "cell_type": "code",
   "execution_count": 15,
   "metadata": {
    "colab": {
     "base_uri": "https://localhost:8080/"
    },
    "executionInfo": {
     "elapsed": 429,
     "status": "ok",
     "timestamp": 1636271892945,
     "user": {
      "displayName": "suresh challiyil",
      "photoUrl": "https://lh3.googleusercontent.com/a/default-user=s64",
      "userId": "05278072941973937916"
     },
     "user_tz": -330
    },
    "id": "WE0oNOnCZ2_j",
    "outputId": "c1c76097-434a-43d1-aa1f-0c59a5d11a68"
   },
   "outputs": [
    {
     "name": "stdout",
     "output_type": "stream",
     "text": [
      "8/8 [==============================] - 0s 16ms/step - loss: 1.0996 - accuracy: 0.8633\n"
     ]
    },
    {
     "data": {
      "text/plain": [
       "[1.0996472835540771, 0.86328125]"
      ]
     },
     "execution_count": 15,
     "metadata": {},
     "output_type": "execute_result"
    }
   ],
   "source": [
    "## Evaluate the model\n",
    "saved_model.evaluate(test_images, test_labels)"
   ]
  },
  {
   "cell_type": "code",
   "execution_count": 16,
   "metadata": {
    "executionInfo": {
     "elapsed": 418,
     "status": "ok",
     "timestamp": 1636271931089,
     "user": {
      "displayName": "suresh challiyil",
      "photoUrl": "https://lh3.googleusercontent.com/a/default-user=s64",
      "userId": "05278072941973937916"
     },
     "user_tz": -330
    },
    "id": "4Jgw6feRZ-P6"
   },
   "outputs": [],
   "source": [
    "saved_model.save(\"./horsesOrHumans.h5\")"
   ]
  }
 ],
 "metadata": {
  "accelerator": "GPU",
  "colab": {
   "authorship_tag": "ABX9TyOs23/0EvH/hmaAhqbrAUQ/",
   "collapsed_sections": [],
   "name": "horseshumans.ipynb",
   "provenance": []
  },
  "kernelspec": {
   "display_name": "Python 3",
   "language": "python",
   "name": "python3"
  },
  "language_info": {
   "codemirror_mode": {
    "name": "ipython",
    "version": 3
   },
   "file_extension": ".py",
   "mimetype": "text/x-python",
   "name": "python",
   "nbconvert_exporter": "python",
   "pygments_lexer": "ipython3",
   "version": "3.8.5"
  }
 },
 "nbformat": 4,
 "nbformat_minor": 4
}
